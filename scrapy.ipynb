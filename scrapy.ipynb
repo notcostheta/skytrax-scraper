{
 "cells": [
  {
   "cell_type": "code",
   "execution_count": 1,
   "metadata": {},
   "outputs": [],
   "source": [
    "base_url = \"https://www.airlinequality.com/airline-reviews/british-airways\"\n",
    "pages = 38\n",
    "page_size = 100\n"
   ]
  },
  {
   "cell_type": "code",
   "execution_count": 2,
   "metadata": {},
   "outputs": [],
   "source": [
    "import scrapy\n",
    "from bs4 import BeautifulSoup\n",
    "\n",
    "class ReviewsSpider(scrapy.Spider):\n",
    "    name = 'reviews'\n",
    "    start_urls = [f\"{base_url}/page/{i}/?sortby=post_date%3ADesc&pagesize={page_size}\" for i in range(1, pages + 1)]\n",
    "\n",
    "    def parse(self, response):\n",
    "        soup = BeautifulSoup(response.text, 'html.parser')\n",
    "        articles_class = soup.find_all(\"article\", class_=\"comp comp_reviews-airline querylist position-content\")\n",
    "        articles = articles_class[0].find_all(\"article\", itemprop=\"review\")\n",
    "\n",
    "        for article in articles:\n",
    "            review = {}\n",
    "            review[\"datePublished\"] = article.find(\"meta\", itemprop=\"datePublished\")[\"content\"]\n",
    "            review[\"ratingValue\"] = article.find(\"span\", itemprop=\"ratingValue\").text\n",
    "            review[\"bestRating\"] = article.find(\"span\", itemprop=\"bestRating\").text\n",
    "            review[\"header\"] = article.find(\"h2\", class_=\"text_header\").text\n",
    "            review[\"author\"] = article.find(\"span\", itemprop=\"name\").text\n",
    "            review[\"reviewBody\"] = article.find(\"div\", itemprop=\"reviewBody\").text.strip()\n",
    "            review[\"recommended\"] = (\n",
    "                article.find(\"td\", class_=\"review-value rating-yes\").text\n",
    "                if article.find(\"td\", class_=\"review-value rating-yes\")\n",
    "                else None\n",
    "            )\n",
    "\n",
    "            review_stats = {}\n",
    "            for row in article.find_all(\"tr\"):\n",
    "                header = row.find(\"td\", class_=\"review-rating-header\")\n",
    "                if header:\n",
    "                    key = header.text.strip()\n",
    "                    value = row.find(\"td\", class_=\"review-value\")\n",
    "                    if value:\n",
    "                        review_stats[key] = value.text.strip()\n",
    "                    else:\n",
    "                        stars = row.find_all(\"span\", class_=\"star fill\")\n",
    "                        review_stats[key] = len(stars)\n",
    "            review[\"stats\"] = review_stats\n",
    "\n",
    "            yield review"
   ]
  },
  {
   "cell_type": "code",
   "execution_count": null,
   "metadata": {},
   "outputs": [],
   "source": [
    "# Run the spider\n",
    "\n",
    "if __name__ == \"__main__\":\n",
    "    from scrapy.crawler import CrawlerProcess\n",
    "\n",
    "    process = CrawlerProcess(settings={\n",
    "        'USER_AGENT': 'Mozilla/5.0 (Windows NT 10.0; Win64; x64) AppleWebKit/537.36 (KHTML, like Gecko) Chrome/58.0.3029.110 Safari/537.3',\n",
    "        'FEED_FORMAT': 'json',\n",
    "        'FEED_URI': 'output.json'\n",
    "    })\n",
    "\n",
    "    process.crawl(ReviewsSpider)\n",
    "    process.start()\n"
   ]
  }
 ],
 "metadata": {
  "kernelspec": {
   "display_name": ".venv",
   "language": "python",
   "name": "python3"
  },
  "language_info": {
   "codemirror_mode": {
    "name": "ipython",
    "version": 3
   },
   "file_extension": ".py",
   "mimetype": "text/x-python",
   "name": "python",
   "nbconvert_exporter": "python",
   "pygments_lexer": "ipython3",
   "version": "3.10.12"
  }
 },
 "nbformat": 4,
 "nbformat_minor": 2
}
